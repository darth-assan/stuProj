import pandas as pd

# Load the dataset
file_path = '/path/to/your/dataset.csv'  # Replace with the actual file path
df = pd.read_csv(file_path)

# Columns to exclude
setpoints_thresholds = [
    'P1_B2004', 'P1_B3004', 'P1_B3005', 'P1_B4002', 'P3_LH01', 'P3_LL01', 'P2_RTR',
    'P1_B4005', 'P1_B400B', 'P1_B4022', 'P2_AutoSD', 'P2_ManualSD', 'P4_ST_PS', 'P4_HT_PS'
]
boolean_controls = [
    'P1_PP01AD', 'P1_PP01AR', 'P1_PP01BD', 'P1_PP01BR', 'P1_PP02D', 'P1_PP02R',
    'P1_SOL01D', 'P1_SOL03D', 'P1_STSP', 'P2_OnOff', 'P2_Emerg', 'P2_MASW', 'P2_AutoGo', 'P2_ManualGO',
    'P2_ATSW_Lamp', 'P2_MASW_Lamp', 'DQ03-LCV01-D', 'DM-ST-SP', 'DM-SW01-ST', 'DM-SW02-SP', 'DM-SW03-EM'
]
preset_limits = ['P2_VTR01', 'P2_VTR02', 'P2_VTR03', 'P2_VTR04', 'P1_PIT01_HH', 'P2_VT01', 'P4_LD']
control_outputs = [
    'P1_FCV01D', 'P1_FCV01Z', 'P1_FCV02D', 'P1_FCV02Z', 'P1_LCV01D', 'P1_LCV01Z',
    'P1_PCV01D', 'P1_PCV01Z'
]

# Combine all columns to be excluded
columns_to_exclude = setpoints_thresholds + boolean_controls + preset_limits + control_outputs

# Drop the columns if they exist in the dataset
df_filtered = df.drop(columns=[col for col in columns_to_exclude if col in df.columns])

# Save or display the filtered dataset
filtered_file_path = '/path/to/filtered_dataset.csv'  # Replace with the actual save path
df_filtered.to_csv(filtered_file_path, index=False)

print("Filtered dataset saved to:", filtered_file_path)
